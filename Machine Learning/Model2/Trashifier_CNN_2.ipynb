{
  "nbformat": 4,
  "nbformat_minor": 0,
  "metadata": {
    "colab": {
      "name": "Trashifier_CNN_2.ipynb",
      "provenance": [],
      "collapsed_sections": [],
      "authorship_tag": "ABX9TyP1z3teFQp95jTX224Pj8pA",
      "include_colab_link": true
    },
    "kernelspec": {
      "name": "python3",
      "display_name": "Python 3"
    },
    "language_info": {
      "name": "python"
    }
  },
  "cells": [
    {
      "cell_type": "markdown",
      "metadata": {
        "id": "view-in-github",
        "colab_type": "text"
      },
      "source": [
        "<a href=\"https://colab.research.google.com/github/christianbennett/trashifier-cnn/blob/main/Trashifier_CNN_2.ipynb\" target=\"_parent\"><img src=\"https://colab.research.google.com/assets/colab-badge.svg\" alt=\"Open In Colab\"/></a>"
      ]
    },
    {
      "cell_type": "markdown",
      "source": [
        "# Importing Libraries\n",
        "\n",
        "All the libraries needed to run this notebook is imported here."
      ],
      "metadata": {
        "id": "oNthaUEI969B"
      }
    },
    {
      "cell_type": "code",
      "source": [
        "# Import libraries\n",
        "import os\n",
        "import zipfile\n",
        "import random\n",
        "import shutil\n",
        "import tensorflow as tf\n",
        "from tensorflow.keras.preprocessing.image import ImageDataGenerator\n",
        "from tensorflow.keras.optimizers import Adam\n",
        "from shutil import copyfile\n",
        "import matplotlib.pyplot as plt\n",
        "import numpy as np\n",
        "import cv2\n",
        "from google.colab.patches import cv2_imshow\n",
        "import pathlib\n",
        "\n",
        "print(tf.__version__)"
      ],
      "metadata": {
        "id": "TP3me9FGO9k4",
        "colab": {
          "base_uri": "https://localhost:8080/"
        },
        "outputId": "bddc381f-1510-4d72-d0fb-5637b29d3ff5"
      },
      "execution_count": 2,
      "outputs": [
        {
          "output_type": "stream",
          "name": "stdout",
          "text": [
            "2.8.0\n"
          ]
        }
      ]
    },
    {
      "cell_type": "markdown",
      "source": [
        "# Data Preprocessing\n",
        "\n",
        "The dataset used on this project can be accessed <a href=\"https://drive.google.com/drive/u/0/folders/1fZfBI6inQEel9-gj7jYUdbZSwgga28QB\">here</a>.\n",
        "Google Drive is mounted here to access and upload datas. We also split the dataset into training and validation sets with 80:20 split. The data is then augmented with ImageDataGenerator to reduce overfitting."
      ],
      "metadata": {
        "id": "8KWK4u2q-GIn"
      }
    },
    {
      "cell_type": "code",
      "execution_count": 4,
      "metadata": {
        "colab": {
          "base_uri": "https://localhost:8080/"
        },
        "id": "R9nItmQ3GUMi",
        "outputId": "097c2b23-8389-414d-f102-87da639d83f3"
      },
      "outputs": [
        {
          "output_type": "stream",
          "name": "stdout",
          "text": [
            "Drive already mounted at /content/drive; to attempt to forcibly remount, call drive.mount(\"/content/drive\", force_remount=True).\n",
            "/content\n"
          ]
        }
      ],
      "source": [
        "# Mount Google Drive to Colab\n",
        "from google.colab import drive\n",
        "drive.mount('/content/drive')\n",
        "\n",
        "!pwd"
      ]
    },
    {
      "cell_type": "code",
      "source": [
        "source_path = '/content/drive/MyDrive/TrashData'\n",
        "\n",
        "source_path_aluminium = os.path.join(source_path, 'Aluminium')\n",
        "source_path_carton = os.path.join(source_path, 'Carton')\n",
        "source_path_glass = os.path.join(source_path, 'Glass')\n",
        "source_path_organicwaste = os.path.join(source_path, 'OrganicWaste')\n",
        "source_path_otherplastics = os.path.join(source_path, 'OtherPlastics')\n",
        "source_path_paperandcardboard = os.path.join(source_path, 'PaperandCardboard')\n",
        "source_path_plastic = os.path.join(source_path, 'Plastic')\n",
        "source_path_textiles = os.path.join(source_path, 'Textiles')\n",
        "source_path_wood = os.path.join(source_path, 'Wood')\n",
        "\n",
        "# os.listdir returns a list containing all files under the given path\n",
        "print(f\"There are {len(os.listdir(source_path_aluminium))} images of aluminium.\")\n",
        "print(f\"There are {len(os.listdir(source_path_carton))} images of carton.\")\n",
        "print(f\"There are {len(os.listdir(source_path_glass))} images of glass.\")\n",
        "print(f\"There are {len(os.listdir(source_path_organicwaste))} images of organic waste.\")\n",
        "print(f\"There are {len(os.listdir(source_path_otherplastics))} images of other plastics.\")\n",
        "print(f\"There are {len(os.listdir(source_path_paperandcardboard))} images of paper and cardboard.\")\n",
        "print(f\"There are {len(os.listdir(source_path_plastic))} images of plastic.\")\n",
        "print(f\"There are {len(os.listdir(source_path_textiles))} images of textiles.\")\n",
        "print(f\"There are {len(os.listdir(source_path_wood))} images of wood.\")"
      ],
      "metadata": {
        "colab": {
          "base_uri": "https://localhost:8080/"
        },
        "id": "Q1NhAkXyPhYh",
        "outputId": "d92450b5-28d2-415c-e80d-6cdb2fee2bd2"
      },
      "execution_count": 5,
      "outputs": [
        {
          "output_type": "stream",
          "name": "stdout",
          "text": [
            "There are 763 images of aluminium.\n",
            "There are 336 images of carton.\n",
            "There are 857 images of glass.\n",
            "There are 210 images of organic waste.\n",
            "There are 339 images of other plastics.\n",
            "There are 1398 images of paper and cardboard.\n",
            "There are 493 images of plastic.\n",
            "There are 335 images of textiles.\n",
            "There are 347 images of wood.\n"
          ]
        }
      ]
    },
    {
      "cell_type": "code",
      "execution_count": 6,
      "metadata": {
        "cellView": "code",
        "id": "F-QkLjxpmyK2"
      },
      "outputs": [],
      "source": [
        "# Define root directory\n",
        "root_dir = '/tmp/trashifier'\n",
        "\n",
        "# Empty directory to prevent FileExistsError is the function is run several times\n",
        "if os.path.exists(root_dir):\n",
        "  shutil.rmtree(root_dir)\n",
        "\n",
        "# Function to create training and testing directories with each class in it\n",
        "def create_train_test_dirs(root_path):\n",
        "  \n",
        "  os.makedirs(root_path)\n",
        "  os.mkdir('/tmp/trashifier/training')\n",
        "  os.mkdir('/tmp/trashifier/training/aluminium')\n",
        "  os.mkdir('/tmp/trashifier/training/carton')\n",
        "  os.mkdir('/tmp/trashifier/training/glass')\n",
        "  os.mkdir('/tmp/trashifier/training/organicwaste')\n",
        "  os.mkdir('/tmp/trashifier/training/otherplastics')\n",
        "  os.mkdir('/tmp/trashifier/training/paperandcardboard')\n",
        "  os.mkdir('/tmp/trashifier/training/plastic')\n",
        "  os.mkdir('/tmp/trashifier/training/textiles')\n",
        "  os.mkdir('/tmp/trashifier/training/wood')\n",
        "  os.mkdir('/tmp/trashifier/testing')\n",
        "  os.mkdir('/tmp/trashifier/testing/aluminium')\n",
        "  os.mkdir('/tmp/trashifier/testing/carton')\n",
        "  os.mkdir('/tmp/trashifier/testing/glass')\n",
        "  os.mkdir('/tmp/trashifier/testing/organicwaste')\n",
        "  os.mkdir('/tmp/trashifier/testing/otherplastics')\n",
        "  os.mkdir('/tmp/trashifier/testing/paperandcardboard')\n",
        "  os.mkdir('/tmp/trashifier/testing/plastic')\n",
        "  os.mkdir('/tmp/trashifier/testing/textiles')\n",
        "  os.mkdir('/tmp/trashifier/testing/wood')\n",
        "  \n",
        "try:\n",
        "  create_train_test_dirs(root_path=root_dir)\n",
        "except FileExistsError:\n",
        "  print(\"You should not be seeing this since the upper directory is removed beforehand\")"
      ]
    },
    {
      "cell_type": "code",
      "source": [
        "# Test create_train_test_dirs function\n",
        "\n",
        "for rootdir, dirs, files in os.walk(root_dir):\n",
        "    for subdir in dirs:\n",
        "        print(os.path.join(rootdir, subdir))"
      ],
      "metadata": {
        "colab": {
          "base_uri": "https://localhost:8080/"
        },
        "id": "sGNmVu2SUp6k",
        "outputId": "599b1718-dcae-429a-931f-698cbb677867"
      },
      "execution_count": 7,
      "outputs": [
        {
          "output_type": "stream",
          "name": "stdout",
          "text": [
            "/tmp/trashifier/testing\n",
            "/tmp/trashifier/training\n",
            "/tmp/trashifier/testing/plastic\n",
            "/tmp/trashifier/testing/paperandcardboard\n",
            "/tmp/trashifier/testing/textiles\n",
            "/tmp/trashifier/testing/carton\n",
            "/tmp/trashifier/testing/glass\n",
            "/tmp/trashifier/testing/aluminium\n",
            "/tmp/trashifier/testing/organicwaste\n",
            "/tmp/trashifier/testing/wood\n",
            "/tmp/trashifier/testing/otherplastics\n",
            "/tmp/trashifier/training/plastic\n",
            "/tmp/trashifier/training/paperandcardboard\n",
            "/tmp/trashifier/training/textiles\n",
            "/tmp/trashifier/training/carton\n",
            "/tmp/trashifier/training/glass\n",
            "/tmp/trashifier/training/aluminium\n",
            "/tmp/trashifier/training/organicwaste\n",
            "/tmp/trashifier/training/wood\n",
            "/tmp/trashifier/training/otherplastics\n"
          ]
        }
      ]
    },
    {
      "cell_type": "code",
      "source": [
        "# Function to split a directory for training and testing \n",
        "def split_data(SOURCE, TRAINING, TESTING, SPLIT_SIZE):\n",
        "\n",
        "  files = []\n",
        "  for filename in os.listdir(SOURCE):\n",
        "        file = SOURCE + filename\n",
        "        if os.path.getsize(file) > 0:\n",
        "            files.append(filename)\n",
        "        else:\n",
        "            print(filename + \" is zero length, so ignoring.\")\n",
        "\n",
        "  training_length = int(len(files) * SPLIT_SIZE)\n",
        "  testing_length = int(len(files) - training_length)\n",
        "  shuffled_set = random.sample(files, len(files))\n",
        "  training_set = shuffled_set[0:training_length]\n",
        "  testing_set = shuffled_set[-testing_length:]\n",
        "\n",
        "  for filename in training_set:\n",
        "      this_file = SOURCE + filename\n",
        "      destination = TRAINING + filename\n",
        "      copyfile(this_file, destination)\n",
        "\n",
        "  for filename in testing_set:\n",
        "      this_file = SOURCE + filename\n",
        "      destination = TESTING + filename\n",
        "      copyfile(this_file, destination)"
      ],
      "metadata": {
        "id": "eXRTFslgU1Rs"
      },
      "execution_count": 8,
      "outputs": []
    },
    {
      "cell_type": "code",
      "source": [
        "# Test split_data function\n",
        "\n",
        "# Define paths\n",
        "ALUMINIUM_SOURCE_DIR = \"/content/drive/MyDrive/TrashData/Aluminium/\"\n",
        "CARTON_SOURCE_DIR = \"/content/drive/MyDrive/TrashData/Carton/\"\n",
        "GLASS_SOURCE_DIR = \"/content/drive/MyDrive/TrashData/Glass/\"\n",
        "ORGANICWASTE_SOURCE_DIR = \"/content/drive/MyDrive/TrashData/OrganicWaste/\"\n",
        "OTHERPLASTICS_SOURCE_DIR = \"/content/drive/MyDrive/TrashData/OtherPlastics/\"\n",
        "PAPERANDCARDBOARD_SOURCE_DIR = \"/content/drive/MyDrive/TrashData/PaperandCardboard/\"\n",
        "PLASTIC_SOURCE_DIR = \"/content/drive/MyDrive/TrashData/Plastic/\"\n",
        "TEXTILES_SOURCE_DIR = \"/content/drive/MyDrive/TrashData/Textiles/\"\n",
        "WOOD_SOURCE_DIR = \"/content/drive/MyDrive/TrashData/Wood/\"\n",
        "\n",
        "TRAINING_DIR = \"/tmp/trashifier/training/\"\n",
        "TESTING_DIR = \"/tmp/trashifier/testing/\"\n",
        "\n",
        "TRAINING_ALUMINIUM_DIR = os.path.join(TRAINING_DIR, \"aluminium/\")\n",
        "TESTING_ALUMINIUM_DIR = os.path.join(TESTING_DIR, \"aluminium/\")\n",
        "\n",
        "TRAINING_CARTON_DIR = os.path.join(TRAINING_DIR, \"carton/\")\n",
        "TESTING_CARTON_DIR = os.path.join(TESTING_DIR, \"carton/\")\n",
        "\n",
        "TRAINING_GLASS_DIR = os.path.join(TRAINING_DIR, \"glass/\")\n",
        "TESTING_GLASS_DIR = os.path.join(TESTING_DIR, \"glass/\")\n",
        "\n",
        "TRAINING_ORGANICWASTE_DIR = os.path.join(TRAINING_DIR, \"organicwaste/\")\n",
        "TESTING_ORGANICWASTE_DIR = os.path.join(TESTING_DIR, \"organicwaste/\")\n",
        "\n",
        "TRAINING_OTHERPLASTICS_DIR = os.path.join(TRAINING_DIR, \"otherplastics/\")\n",
        "TESTING_OTHERPLASTICS_DIR = os.path.join(TESTING_DIR, \"otherplastics/\")\n",
        "\n",
        "TRAINING_PAPERANDCARDBOARD_DIR = os.path.join(TRAINING_DIR, \"paperandcardboard/\")\n",
        "TESTING_PAPERANDCARDBOARD_DIR = os.path.join(TESTING_DIR, \"paperandcardboard/\")\n",
        "\n",
        "TRAINING_PLASTIC_DIR = os.path.join(TRAINING_DIR, \"plastic/\")\n",
        "TESTING_PLASTIC_DIR = os.path.join(TESTING_DIR, \"plastic/\")\n",
        "\n",
        "TRAINING_TEXTILES_DIR = os.path.join(TRAINING_DIR, \"textiles/\")\n",
        "TESTING_TEXTILES_DIR = os.path.join(TESTING_DIR, \"textiles/\")\n",
        "\n",
        "TRAINING_WOOD_DIR = os.path.join(TRAINING_DIR, \"wood/\")\n",
        "TESTING_WOOD_DIR = os.path.join(TESTING_DIR, \"wood/\")\n",
        "\n",
        "# Empty directories in case this cell is ran multiple times\n",
        "if len(os.listdir(TRAINING_ALUMINIUM_DIR)) > 0:\n",
        "  for file in os.scandir(TRAINING_ALUMINIUM_DIR):\n",
        "    os.remove(file.path)\n",
        "if len(os.listdir(TRAINING_CARTON_DIR)) > 0:\n",
        "  for file in os.scandir(TRAINING_CARTON_DIR):\n",
        "    os.remove(file.path)\n",
        "if len(os.listdir(TRAINING_GLASS_DIR)) > 0:\n",
        "  for file in os.scandir(TRAINING_GLASS_DIR):\n",
        "    os.remove(file.path)\n",
        "if len(os.listdir(TRAINING_ORGANICWASTE_DIR)) > 0:\n",
        "  for file in os.scandir(TRAINING_ORGANICWASTE_DIR):\n",
        "    os.remove(file.path)\n",
        "if len(os.listdir(TRAINING_OTHERPLASTICS_DIR)) > 0:\n",
        "  for file in os.scandir(TRAINING_OTHERPLASTICS_DIR):\n",
        "    os.remove(file.path)\n",
        "if len(os.listdir(TRAINING_PAPERANDCARDBOARD_DIR)) > 0:\n",
        "  for file in os.scandir(TRAINING_PAPERANDCARDBOARD_DIR):\n",
        "    os.remove(file.path)\n",
        "if len(os.listdir(TRAINING_PLASTIC_DIR)) > 0:\n",
        "  for file in os.scandir(TRAINING_PLASTIC_DIR):\n",
        "    os.remove(file.path)\n",
        "if len(os.listdir(TRAINING_TEXTILES_DIR)) > 0:\n",
        "  for file in os.scandir(TRAINING_TEXTILES_DIR):\n",
        "    os.remove(file.path)\n",
        "if len(os.listdir(TRAINING_WOOD_DIR)) > 0:\n",
        "  for file in os.scandir(TRAINING_WOOD_DIR):\n",
        "    os.remove(file.path)\n",
        "if len(os.listdir(TESTING_ALUMINIUM_DIR)) > 0:\n",
        "  for file in os.scandir(TESTING_ALUMINIUM_DIR):\n",
        "    os.remove(file.path)\n",
        "if len(os.listdir(TESTING_CARTON_DIR)) > 0:\n",
        "  for file in os.scandir(TESTING_CARTON_DIR):\n",
        "    os.remove(file.path)\n",
        "if len(os.listdir(TESTING_GLASS_DIR)) > 0:\n",
        "  for file in os.scandir(TESTING_GLASS_DIR):\n",
        "    os.remove(file.path)\n",
        "if len(os.listdir(TESTING_ORGANICWASTE_DIR)) > 0:\n",
        "  for file in os.scandir(TESTING_ORGANICWASTE_DIR):\n",
        "    os.remove(file.path)\n",
        "if len(os.listdir(TESTING_OTHERPLASTICS_DIR)) > 0:\n",
        "  for file in os.scandir(TESTING_OTHERPLASTICS_DIR):\n",
        "    os.remove(file.path)\n",
        "if len(os.listdir(TESTING_PAPERANDCARDBOARD_DIR)) > 0:\n",
        "  for file in os.scandir(TESTING_PAPERANDCARDBOARD_DIR):\n",
        "    os.remove(file.path)\n",
        "if len(os.listdir(TESTING_PLASTIC_DIR)) > 0:\n",
        "  for file in os.scandir(TESTING_PLASTIC_DIR):\n",
        "    os.remove(file.path)\n",
        "if len(os.listdir(TESTING_TEXTILES_DIR)) > 0:\n",
        "  for file in os.scandir(TESTING_TEXTILES_DIR):\n",
        "    os.remove(file.path)\n",
        "if len(os.listdir(TESTING_WOOD_DIR)) > 0:\n",
        "  for file in os.scandir(TESTING_WOOD_DIR):\n",
        "    os.remove(file.path)\n",
        "\n",
        "# Define proportion of images used for training\n",
        "split_size = .8\n",
        "\n",
        "# NOTE: Messages about zero length images should be printed out\n",
        "split_data(ALUMINIUM_SOURCE_DIR, TRAINING_ALUMINIUM_DIR, TESTING_ALUMINIUM_DIR, split_size)\n",
        "split_data(CARTON_SOURCE_DIR, TRAINING_CARTON_DIR, TESTING_CARTON_DIR, split_size)\n",
        "split_data(GLASS_SOURCE_DIR, TRAINING_GLASS_DIR, TESTING_GLASS_DIR, split_size)\n",
        "split_data(ORGANICWASTE_SOURCE_DIR, TRAINING_ORGANICWASTE_DIR, TESTING_ORGANICWASTE_DIR, split_size)\n",
        "split_data(OTHERPLASTICS_SOURCE_DIR, TRAINING_OTHERPLASTICS_DIR, TESTING_OTHERPLASTICS_DIR, split_size)\n",
        "split_data(PAPERANDCARDBOARD_SOURCE_DIR, TRAINING_PAPERANDCARDBOARD_DIR, TESTING_PAPERANDCARDBOARD_DIR, split_size)\n",
        "split_data(PLASTIC_SOURCE_DIR, TRAINING_PLASTIC_DIR, TESTING_PLASTIC_DIR, split_size)\n",
        "split_data(TEXTILES_SOURCE_DIR, TRAINING_TEXTILES_DIR, TESTING_TEXTILES_DIR, split_size)\n",
        "split_data(WOOD_SOURCE_DIR, TRAINING_WOOD_DIR, TESTING_WOOD_DIR, split_size)\n",
        "\n",
        "# Check that the number of images matches the expected output\n",
        "print(f\"\\n\\nThere are {len(os.listdir(TRAINING_ALUMINIUM_DIR))} images of aluminium for training\")\n",
        "print(f\"There are {len(os.listdir(TRAINING_CARTON_DIR))} images of carton for training\")\n",
        "print(f\"There are {len(os.listdir(TRAINING_GLASS_DIR))} images of glass for training\")\n",
        "print(f\"There are {len(os.listdir(TRAINING_ORGANICWASTE_DIR))} images of organic waste for training\")\n",
        "print(f\"There are {len(os.listdir(TRAINING_OTHERPLASTICS_DIR))} images of other plastics for training\")\n",
        "print(f\"There are {len(os.listdir(TRAINING_PAPERANDCARDBOARD_DIR))} images of paper and cardboard training\")\n",
        "print(f\"There are {len(os.listdir(TRAINING_PLASTIC_DIR))} images of plastic for training\")\n",
        "print(f\"There are {len(os.listdir(TRAINING_TEXTILES_DIR))} images of textiles for training\")\n",
        "print(f\"There are {len(os.listdir(TRAINING_WOOD_DIR))} images of wood for training\")\n",
        "print(f\"There are {len(os.listdir(TESTING_ALUMINIUM_DIR))} images of aluminium for testing\")\n",
        "print(f\"There are {len(os.listdir(TESTING_CARTON_DIR))} images of carton for testing\")\n",
        "print(f\"There are {len(os.listdir(TESTING_GLASS_DIR))} images of glass for testing\")\n",
        "print(f\"There are {len(os.listdir(TESTING_ORGANICWASTE_DIR))} images of organic waste for testing\")\n",
        "print(f\"There are {len(os.listdir(TESTING_OTHERPLASTICS_DIR))} images of other plastics for testing\")\n",
        "print(f\"There are {len(os.listdir(TESTING_PAPERANDCARDBOARD_DIR))} images of paper and cardboard for testing\")\n",
        "print(f\"There are {len(os.listdir(TESTING_PLASTIC_DIR))} images of plastic for testing\")\n",
        "print(f\"There are {len(os.listdir(TESTING_TEXTILES_DIR))} images of textiles for testing\")\n",
        "print(f\"There are {len(os.listdir(TESTING_WOOD_DIR))} images of wood for testing\")"
      ],
      "metadata": {
        "colab": {
          "base_uri": "https://localhost:8080/"
        },
        "id": "fv6eZ51-VLg_",
        "outputId": "6da0caba-ae18-4747-ee5d-0057454f3911"
      },
      "execution_count": 9,
      "outputs": [
        {
          "output_type": "stream",
          "name": "stdout",
          "text": [
            "\n",
            "\n",
            "There are 610 images of aluminium for training\n",
            "There are 268 images of carton for training\n",
            "There are 685 images of glass for training\n",
            "There are 168 images of organic waste for training\n",
            "There are 271 images of other plastics for training\n",
            "There are 1118 images of paper and cardboard training\n",
            "There are 394 images of plastic for training\n",
            "There are 268 images of textiles for training\n",
            "There are 277 images of wood for training\n",
            "There are 153 images of aluminium for testing\n",
            "There are 68 images of carton for testing\n",
            "There are 172 images of glass for testing\n",
            "There are 42 images of organic waste for testing\n",
            "There are 68 images of other plastics for testing\n",
            "There are 280 images of paper and cardboard for testing\n",
            "There are 99 images of plastic for testing\n",
            "There are 67 images of textiles for testing\n",
            "There are 70 images of wood for testing\n"
          ]
        }
      ]
    },
    {
      "cell_type": "code",
      "source": [
        "# Defining the class labels\n",
        "labels = [\"Aluminium\", \"Carton\", \"Glass\", \"Organic waste\", \"Other plastics\", \"Paper and Cardboard\", \"Plastic\", \"Textiles\", \"Wood\"]\n",
        "# labels = sorted(labels)\n",
        "labels = np.array(labels)\n",
        "print(labels)\n"
      ],
      "metadata": {
        "colab": {
          "base_uri": "https://localhost:8080/"
        },
        "id": "OzX0zoBeHNdW",
        "outputId": "69145754-6aca-4a17-d932-d10c25614fef"
      },
      "execution_count": 10,
      "outputs": [
        {
          "output_type": "stream",
          "name": "stdout",
          "text": [
            "['Aluminium' 'Carton' 'Glass' 'Organic waste' 'Other plastics'\n",
            " 'Paper and Cardboard' 'Plastic' 'Textiles' 'Wood']\n"
          ]
        }
      ]
    },
    {
      "cell_type": "code",
      "execution_count": 11,
      "metadata": {
        "cellView": "code",
        "id": "fQrZfVgz4j2g"
      },
      "outputs": [],
      "source": [
        "# Function for Training and Validation Generators\n",
        "def train_val_generators(TRAINING_DIR, VALIDATION_DIR):\n",
        "  # Instantiate the ImageDataGenerator class and augment the images\n",
        "  train_datagen = ImageDataGenerator(rescale = 1./255,\n",
        "                                     rotation_range=40,\n",
        "                                     width_shift_range=0.1,\n",
        "                                     height_shift_range=0.1,\n",
        "                                     shear_range=0.1,\n",
        "                                     zoom_range=0.1,\n",
        "                                     fill_mode='nearest')\n",
        "  \n",
        " # Pass in the appropiate arguments to the flow_from_directory method\n",
        "  train_generator = train_datagen.flow_from_directory(TRAINING_DIR,\n",
        "                                                    batch_size=50,\n",
        "                                                    class_mode='categorical',\n",
        "                                                    target_size=(150, 150))\n",
        "\n",
        "  # Instantiate the ImageDataGenerator class and normalize the images\n",
        "  validation_datagen = ImageDataGenerator(rescale=1.0/255.)\n",
        "\n",
        "  # Pass in the appropiate arguments to the flow_from_directory method\n",
        "  validation_generator = validation_datagen.flow_from_directory(VALIDATION_DIR,\n",
        "                                                              batch_size=50,\n",
        "                                                              class_mode='categorical',\n",
        "                                                              target_size=(150, 150))\n",
        "\n",
        "  return train_generator, validation_generator\n"
      ]
    },
    {
      "cell_type": "code",
      "source": [
        "# Testing the generator\n",
        "train_generator, validation_generator = train_val_generators(TRAINING_DIR, TESTING_DIR)"
      ],
      "metadata": {
        "colab": {
          "base_uri": "https://localhost:8080/"
        },
        "id": "scx3KVb-coXM",
        "outputId": "e28e7101-eb57-4ebb-8079-84cf5fb39e79"
      },
      "execution_count": 12,
      "outputs": [
        {
          "output_type": "stream",
          "name": "stdout",
          "text": [
            "Found 4059 images belonging to 9 classes.\n",
            "Found 1019 images belonging to 9 classes.\n"
          ]
        }
      ]
    },
    {
      "cell_type": "markdown",
      "source": [
        "# Creating & Training the Model\n",
        "\n",
        "Our model will be consisting of Convolutional Neural Network (CNN), Max Pooling, Dropout, Flatten, and Dense Layers. We are using CNN followed by MaxPooling to extract important features from each class of images. We are also using Dropout to reduce overfitting from the dataset. The model is then Flattened and after that Densed into 9 classes with the Softmax activation function. \n",
        "\n",
        "Our model is compiled with Adam optimizer with 0.001 learning rate, it also uses Categorical Crossentropy as the loss function and accuracy as metric. It is also trained with 40 epochs and uses a ModelCheckpoint callback function to save and load the best model."
      ],
      "metadata": {
        "id": "tgutSG0C_RK0"
      }
    },
    {
      "cell_type": "code",
      "source": [
        "def create_model():\n",
        "  model = tf.keras.models.Sequential([\n",
        "    tf.keras.layers.Conv2D(16, (3,3), activation='relu', input_shape=(150, 150, 3)),\n",
        "    tf.keras.layers.MaxPooling2D(2,2),\n",
        "    tf.keras.layers.Dropout(0.05),\n",
        "    tf.keras.layers.Conv2D(32, (3,3), activation='relu'),\n",
        "    tf.keras.layers.MaxPooling2D(2,2),\n",
        "    tf.keras.layers.Dropout(0.05),\n",
        "    tf.keras.layers.Conv2D(64, (3,3), activation='relu'),\n",
        "    tf.keras.layers.MaxPooling2D(2,2),\n",
        "    tf.keras.layers.Dropout(0.05),\n",
        "    tf.keras.layers.Flatten(),\n",
        "    tf.keras.layers.Dense(512, activation='relu'),\n",
        "    tf.keras.layers.Dense(9, activation='softmax')])\n",
        "  \n",
        "\n",
        "  model.compile(optimizer = Adam(lr=0.001),\n",
        "                loss = 'categorical_crossentropy',\n",
        "                metrics=['accuracy'])\n",
        "\n",
        "  return model"
      ],
      "metadata": {
        "id": "2SYFbAgfcuL2"
      },
      "execution_count": 13,
      "outputs": []
    },
    {
      "cell_type": "code",
      "source": [
        "# Get the untrained model\n",
        "model = create_model()\n",
        "\n",
        "epochs = 40\n",
        "\n",
        "# Callback to save the best model\n",
        "checkpoint_filepath = '/tmp/checkpoint'\n",
        "model_checkpoint_callback = tf.keras.callbacks.ModelCheckpoint(\n",
        "    filepath=checkpoint_filepath,\n",
        "    save_weights_only=True,\n",
        "    monitor='val_accuracy',\n",
        "    mode='max',\n",
        "    save_best_only=True)\n",
        "\n",
        "# Training the model\n",
        "history = model.fit(train_generator,\n",
        "                    epochs=epochs,\n",
        "                    verbose=1,\n",
        "                    validation_data=validation_generator,\n",
        "                    callbacks = [model_checkpoint_callback])\n",
        "\n",
        "# Load the best model\n",
        "model.load_weights(checkpoint_filepath)"
      ],
      "metadata": {
        "colab": {
          "base_uri": "https://localhost:8080/"
        },
        "id": "NWuW3Wvqc8i9",
        "outputId": "c0a5ac2b-d0d3-476c-e1c8-70a78255dac6"
      },
      "execution_count": 14,
      "outputs": [
        {
          "output_type": "stream",
          "name": "stderr",
          "text": [
            "/usr/local/lib/python3.7/dist-packages/keras/optimizer_v2/adam.py:105: UserWarning: The `lr` argument is deprecated, use `learning_rate` instead.\n",
            "  super(Adam, self).__init__(name, **kwargs)\n"
          ]
        },
        {
          "output_type": "stream",
          "name": "stdout",
          "text": [
            "Epoch 1/40\n",
            "82/82 [==============================] - 130s 2s/step - loss: 2.0618 - accuracy: 0.2843 - val_loss: 1.8628 - val_accuracy: 0.2915\n",
            "Epoch 2/40\n",
            "82/82 [==============================] - 128s 2s/step - loss: 1.7300 - accuracy: 0.3331 - val_loss: 1.6623 - val_accuracy: 0.3680\n",
            "Epoch 3/40\n",
            "82/82 [==============================] - 129s 2s/step - loss: 1.5873 - accuracy: 0.4053 - val_loss: 1.5635 - val_accuracy: 0.4318\n",
            "Epoch 4/40\n",
            "82/82 [==============================] - 132s 2s/step - loss: 1.4827 - accuracy: 0.4496 - val_loss: 1.4568 - val_accuracy: 0.4740\n",
            "Epoch 5/40\n",
            "82/82 [==============================] - 131s 2s/step - loss: 1.3918 - accuracy: 0.4750 - val_loss: 1.3936 - val_accuracy: 0.4769\n",
            "Epoch 6/40\n",
            "82/82 [==============================] - 130s 2s/step - loss: 1.3439 - accuracy: 0.4999 - val_loss: 1.3982 - val_accuracy: 0.4789\n",
            "Epoch 7/40\n",
            "82/82 [==============================] - 129s 2s/step - loss: 1.2635 - accuracy: 0.5358 - val_loss: 1.3122 - val_accuracy: 0.5044\n",
            "Epoch 8/40\n",
            "82/82 [==============================] - 128s 2s/step - loss: 1.2159 - accuracy: 0.5472 - val_loss: 1.2556 - val_accuracy: 0.5525\n",
            "Epoch 9/40\n",
            "82/82 [==============================] - 129s 2s/step - loss: 1.1442 - accuracy: 0.5827 - val_loss: 1.2054 - val_accuracy: 0.5574\n",
            "Epoch 10/40\n",
            "82/82 [==============================] - 131s 2s/step - loss: 1.1196 - accuracy: 0.5868 - val_loss: 1.2237 - val_accuracy: 0.5741\n",
            "Epoch 11/40\n",
            "82/82 [==============================] - 129s 2s/step - loss: 1.0813 - accuracy: 0.6073 - val_loss: 1.2098 - val_accuracy: 0.5711\n",
            "Epoch 12/40\n",
            "82/82 [==============================] - 128s 2s/step - loss: 1.0249 - accuracy: 0.6280 - val_loss: 1.2421 - val_accuracy: 0.5682\n",
            "Epoch 13/40\n",
            "82/82 [==============================] - 127s 2s/step - loss: 1.0212 - accuracy: 0.6285 - val_loss: 1.1284 - val_accuracy: 0.6241\n",
            "Epoch 14/40\n",
            "82/82 [==============================] - 129s 2s/step - loss: 0.9397 - accuracy: 0.6531 - val_loss: 1.1821 - val_accuracy: 0.5976\n",
            "Epoch 15/40\n",
            "82/82 [==============================] - 126s 2s/step - loss: 0.9075 - accuracy: 0.6654 - val_loss: 1.2432 - val_accuracy: 0.5810\n",
            "Epoch 16/40\n",
            "82/82 [==============================] - 128s 2s/step - loss: 0.8760 - accuracy: 0.6817 - val_loss: 1.1091 - val_accuracy: 0.6310\n",
            "Epoch 17/40\n",
            "82/82 [==============================] - 127s 2s/step - loss: 0.8324 - accuracy: 0.6997 - val_loss: 1.1869 - val_accuracy: 0.6202\n",
            "Epoch 18/40\n",
            "82/82 [==============================] - 127s 2s/step - loss: 0.8288 - accuracy: 0.7159 - val_loss: 1.1692 - val_accuracy: 0.6153\n",
            "Epoch 19/40\n",
            "82/82 [==============================] - 127s 2s/step - loss: 0.7880 - accuracy: 0.7154 - val_loss: 1.1130 - val_accuracy: 0.6114\n",
            "Epoch 20/40\n",
            "82/82 [==============================] - 127s 2s/step - loss: 0.7626 - accuracy: 0.7194 - val_loss: 1.1172 - val_accuracy: 0.6300\n",
            "Epoch 21/40\n",
            "82/82 [==============================] - 127s 2s/step - loss: 0.7811 - accuracy: 0.7162 - val_loss: 1.1919 - val_accuracy: 0.6241\n",
            "Epoch 22/40\n",
            "82/82 [==============================] - 127s 2s/step - loss: 0.6996 - accuracy: 0.7435 - val_loss: 1.1134 - val_accuracy: 0.6516\n",
            "Epoch 23/40\n",
            "82/82 [==============================] - 128s 2s/step - loss: 0.7051 - accuracy: 0.7485 - val_loss: 1.0594 - val_accuracy: 0.6683\n",
            "Epoch 24/40\n",
            "82/82 [==============================] - 128s 2s/step - loss: 0.6724 - accuracy: 0.7605 - val_loss: 1.1408 - val_accuracy: 0.6497\n",
            "Epoch 25/40\n",
            "82/82 [==============================] - 127s 2s/step - loss: 0.6575 - accuracy: 0.7650 - val_loss: 1.2495 - val_accuracy: 0.6143\n",
            "Epoch 26/40\n",
            "82/82 [==============================] - 126s 2s/step - loss: 0.5735 - accuracy: 0.7921 - val_loss: 1.2797 - val_accuracy: 0.6271\n",
            "Epoch 27/40\n",
            "82/82 [==============================] - 133s 2s/step - loss: 0.5928 - accuracy: 0.7839 - val_loss: 1.0987 - val_accuracy: 0.6624\n",
            "Epoch 28/40\n",
            "82/82 [==============================] - 141s 2s/step - loss: 0.5704 - accuracy: 0.7948 - val_loss: 1.2184 - val_accuracy: 0.6526\n",
            "Epoch 29/40\n",
            "82/82 [==============================] - 126s 2s/step - loss: 0.5569 - accuracy: 0.8046 - val_loss: 1.2944 - val_accuracy: 0.6173\n",
            "Epoch 30/40\n",
            "82/82 [==============================] - 126s 2s/step - loss: 0.5304 - accuracy: 0.8118 - val_loss: 1.2547 - val_accuracy: 0.6418\n",
            "Epoch 31/40\n",
            "82/82 [==============================] - 127s 2s/step - loss: 0.5404 - accuracy: 0.8081 - val_loss: 1.1480 - val_accuracy: 0.6624\n",
            "Epoch 32/40\n",
            "82/82 [==============================] - 126s 2s/step - loss: 0.5364 - accuracy: 0.8061 - val_loss: 1.1831 - val_accuracy: 0.6673\n",
            "Epoch 33/40\n",
            "82/82 [==============================] - 127s 2s/step - loss: 0.4811 - accuracy: 0.8290 - val_loss: 1.1130 - val_accuracy: 0.6899\n",
            "Epoch 34/40\n",
            "82/82 [==============================] - 127s 2s/step - loss: 0.4969 - accuracy: 0.8248 - val_loss: 1.1064 - val_accuracy: 0.6958\n",
            "Epoch 35/40\n",
            "82/82 [==============================] - 126s 2s/step - loss: 0.4807 - accuracy: 0.8271 - val_loss: 1.1665 - val_accuracy: 0.6752\n",
            "Epoch 36/40\n",
            "82/82 [==============================] - 126s 2s/step - loss: 0.4410 - accuracy: 0.8428 - val_loss: 1.2568 - val_accuracy: 0.6654\n",
            "Epoch 37/40\n",
            "82/82 [==============================] - 126s 2s/step - loss: 0.4332 - accuracy: 0.8517 - val_loss: 1.2040 - val_accuracy: 0.6683\n",
            "Epoch 38/40\n",
            "82/82 [==============================] - 126s 2s/step - loss: 0.4174 - accuracy: 0.8502 - val_loss: 1.4089 - val_accuracy: 0.6408\n",
            "Epoch 39/40\n",
            "82/82 [==============================] - 127s 2s/step - loss: 0.3986 - accuracy: 0.8578 - val_loss: 1.3277 - val_accuracy: 0.6673\n",
            "Epoch 40/40\n",
            "82/82 [==============================] - 127s 2s/step - loss: 0.4148 - accuracy: 0.8529 - val_loss: 1.2276 - val_accuracy: 0.6683\n"
          ]
        },
        {
          "output_type": "execute_result",
          "data": {
            "text/plain": [
              "<tensorflow.python.training.tracking.util.CheckpointLoadStatus at 0x7f57a27bb0d0>"
            ]
          },
          "metadata": {},
          "execution_count": 14
        }
      ]
    },
    {
      "cell_type": "code",
      "source": [
        "model.summary()"
      ],
      "metadata": {
        "colab": {
          "base_uri": "https://localhost:8080/"
        },
        "id": "zXP1ag_vclK8",
        "outputId": "e9cfdcd2-2585-4b8c-a739-931dc36748a9"
      },
      "execution_count": 15,
      "outputs": [
        {
          "output_type": "stream",
          "name": "stdout",
          "text": [
            "Model: \"sequential\"\n",
            "_________________________________________________________________\n",
            " Layer (type)                Output Shape              Param #   \n",
            "=================================================================\n",
            " conv2d (Conv2D)             (None, 148, 148, 16)      448       \n",
            "                                                                 \n",
            " max_pooling2d (MaxPooling2D  (None, 74, 74, 16)       0         \n",
            " )                                                               \n",
            "                                                                 \n",
            " dropout (Dropout)           (None, 74, 74, 16)        0         \n",
            "                                                                 \n",
            " conv2d_1 (Conv2D)           (None, 72, 72, 32)        4640      \n",
            "                                                                 \n",
            " max_pooling2d_1 (MaxPooling  (None, 36, 36, 32)       0         \n",
            " 2D)                                                             \n",
            "                                                                 \n",
            " dropout_1 (Dropout)         (None, 36, 36, 32)        0         \n",
            "                                                                 \n",
            " conv2d_2 (Conv2D)           (None, 34, 34, 64)        18496     \n",
            "                                                                 \n",
            " max_pooling2d_2 (MaxPooling  (None, 17, 17, 64)       0         \n",
            " 2D)                                                             \n",
            "                                                                 \n",
            " dropout_2 (Dropout)         (None, 17, 17, 64)        0         \n",
            "                                                                 \n",
            " flatten (Flatten)           (None, 18496)             0         \n",
            "                                                                 \n",
            " dense (Dense)               (None, 512)               9470464   \n",
            "                                                                 \n",
            " dense_1 (Dense)             (None, 9)                 4617      \n",
            "                                                                 \n",
            "=================================================================\n",
            "Total params: 9,498,665\n",
            "Trainable params: 9,498,665\n",
            "Non-trainable params: 0\n",
            "_________________________________________________________________\n"
          ]
        }
      ]
    },
    {
      "cell_type": "code",
      "source": [
        "# Plot the chart for accuracy and loss on both training and validation\n",
        "acc = history.history['accuracy']\n",
        "val_acc = history.history['val_accuracy']\n",
        "loss = history.history['loss']\n",
        "val_loss = history.history['val_loss']\n",
        "\n",
        "epochs = range(len(acc))\n",
        "\n",
        "plt.plot(epochs, acc, 'r', label='Training accuracy')\n",
        "plt.plot(epochs, val_acc, 'b', label='Validation accuracy')\n",
        "plt.title('Training and validation accuracy')\n",
        "plt.legend()\n",
        "plt.figure()\n",
        "\n",
        "plt.plot(epochs, loss, 'r', label='Training Loss')\n",
        "plt.plot(epochs, val_loss, 'b', label='Validation Loss')\n",
        "plt.title('Training and validation loss')\n",
        "plt.legend()\n",
        "\n",
        "plt.show()"
      ],
      "metadata": {
        "colab": {
          "base_uri": "https://localhost:8080/",
          "height": 545
        },
        "id": "TBh-x7U9t6q0",
        "outputId": "09b081c7-3e88-4fdd-ad4e-a759bf2ffd6b"
      },
      "execution_count": 16,
      "outputs": [
        {
          "output_type": "display_data",
          "data": {
            "text/plain": [
              "<Figure size 432x288 with 1 Axes>"
            ],
            "image/png": "[encoded data removed]"
          },
          "metadata": {
            "needs_background": "light"
          }
        },
        {
          "output_type": "display_data",
          "data": {
            "text/plain": [
              "<Figure size 432x288 with 1 Axes>"
            ],
            "image/png": "[encoded data removed]"
          },
          "metadata": {
            "needs_background": "light"
          }
        }
      ]
    },
    {
      "cell_type": "markdown",
      "source": [
        "# Predicting the Model\n",
        "\n",
        "Here we can input images to test our own image against the model. Currently our model has 82.48% training accuracy and 69.58% validation accuracy."
      ],
      "metadata": {
        "id": "I9TEcVvU_5nO"
      }
    },
    {
      "cell_type": "code",
      "source": [
        "# Predict an image\n",
        "image_path = '/content/glasstest.jpg'\n",
        "\n",
        "image = tf.keras.preprocessing.image.load_img(image_path, target_size=(150, 150))\n",
        "\n",
        "image_show = cv2.imread(image_path)\n",
        "image_show = cv2.resize(image_show, (150,150), interpolation = cv2.INTER_AREA)\n",
        "\n",
        "cv2_imshow(image_show)"
      ],
      "metadata": {
        "colab": {
          "base_uri": "https://localhost:8080/",
          "height": 167
        },
        "id": "eKZB211FqKYG",
        "outputId": "1c0921c3-fb68-4047-d2a5-96f31a9e7a24"
      },
      "execution_count": 17,
      "outputs": [
        {
          "output_type": "display_data",
          "data": {
            "text/plain": [
              "<PIL.Image.Image image mode=RGB size=150x150 at 0x7F579D689E50>"
            ],
            "image/png": "[encoded data removed]"
          },
          "metadata": {}
        }
      ]
    },
    {
      "cell_type": "code",
      "source": [
        "input_arr = tf.keras.preprocessing.image.img_to_array(image)\n",
        "# Convert single image to a batch.\n",
        "input_arr = np.array([input_arr])  \n",
        "# Normalize the image\n",
        "input_arr = input_arr.astype('float32') / 255.\n",
        "\n",
        "predictions = model.predict(input_arr)\n",
        "print(predictions)\n",
        "predicted_class = np.argmax(predictions, axis=-1)\n",
        "predicted_label = labels[predicted_class]\n",
        "print(\"Predicted class = {}, predicted label = {}\".format(predicted_class, predicted_label))\n",
        "cv2_imshow(image_show)"
      ],
      "metadata": {
        "colab": {
          "base_uri": "https://localhost:8080/",
          "height": 220
        },
        "id": "xW-WbW7tqTY0",
        "outputId": "eb9ab376-5ae4-48ab-b88e-2d412afc4a86"
      },
      "execution_count": 18,
      "outputs": [
        {
          "output_type": "stream",
          "name": "stdout",
          "text": [
            "[[4.7838528e-04 3.7731946e-04 9.7822338e-01 1.4771294e-04 1.4263197e-03\n",
            "  1.8622583e-02 1.9213538e-05 7.0075941e-04 4.2041388e-06]]\n",
            "Predicted class = [2], predicted label = ['Glass']\n"
          ]
        },
        {
          "output_type": "display_data",
          "data": {
            "text/plain": [
              "<PIL.Image.Image image mode=RGB size=150x150 at 0x7F579D6BE510>"
            ],
            "image/png": "[encoded data removed]"
          },
          "metadata": {}
        }
      ]
    },
    {
      "cell_type": "markdown",
      "source": [
        "# Saving the Model\n",
        "\n",
        "Lastly, we save our model in `.h5` format so that it can be used again later on without retraining the model since it takes quite a lot of time (~2 minutes per epoch with 40 epochs). We also convert the saved model into `.tflite` format so that it can be used in Mobile Development."
      ],
      "metadata": {
        "id": "SloFDcr2AEbT"
      }
    },
    {
      "cell_type": "code",
      "source": [
        "!mkdir -p \"saved_model\"\n",
        "!mkdir -p \"tflite_model\""
      ],
      "metadata": {
        "id": "65OxMOP_pQ53"
      },
      "execution_count": 19,
      "outputs": []
    },
    {
      "cell_type": "code",
      "source": [
        "# Saving the model in .h5 format\n",
        "model.save('saved_model/model.h5')"
      ],
      "metadata": {
        "id": "fFFgZjRe8XPb"
      },
      "execution_count": 25,
      "outputs": []
    },
    {
      "cell_type": "code",
      "source": [
        "# Saving the model in .tflite format\n",
        "new_model= tf.saved_model.load(\"saved_model\")\n",
        "converter = tf.lite.TFLiteConverter.from_keras_model(new_model)\n",
        "converter.optimizations = []\n",
        "converter.allow_custom_ops=False\n",
        "converter.experimental_new_converter = True\n",
        "tflite_model = converter.convert()\n",
        "open(\"tflite_model/model.tflite\", \"wb\").write(tflite_model)"
      ],
      "metadata": {
        "colab": {
          "base_uri": "https://localhost:8080/"
        },
        "id": "9hVwwUxLKlXF",
        "outputId": "a2978968-c330-4b9f-e2a2-3895a270fd65"
      },
      "execution_count": 26,
      "outputs": [
        {
          "output_type": "stream",
          "name": "stdout",
          "text": [
            "INFO:tensorflow:Assets written to: /tmp/tmpmqbfc90p/assets\n"
          ]
        },
        {
          "output_type": "stream",
          "name": "stderr",
          "text": [
            "INFO:tensorflow:Assets written to: /tmp/tmpmqbfc90p/assets\n",
            "WARNING:absl:Buffer deduplication procedure will be skipped when flatbuffer library is not properly loaded\n"
          ]
        },
        {
          "output_type": "execute_result",
          "data": {
            "text/plain": [
              "37998264"
            ]
          },
          "metadata": {},
          "execution_count": 26
        }
      ]
    },
    {
      "cell_type": "code",
      "source": [
        "# Upload to drive\n",
        "shutil.copy(\"saved_model/model.h5\",\"/content/drive/MyDrive/saved_model\")\n",
        "shutil.copy(\"tflite_model/model.tflite\",\"/content/drive/MyDrive/tflite_model\")"
      ],
      "metadata": {
        "colab": {
          "base_uri": "https://localhost:8080/",
          "height": 35
        },
        "id": "DwI0xVx4eG4b",
        "outputId": "3b7ceb81-acf5-4e13-cd41-4cbf97768ffa"
      },
      "execution_count": 27,
      "outputs": [
        {
          "output_type": "execute_result",
          "data": {
            "text/plain": [
              "'/content/drive/MyDrive/tflite_model/model.tflite'"
            ],
            "application/vnd.google.colaboratory.intrinsic+json": {
              "type": "string"
            }
          },
          "metadata": {},
          "execution_count": 27
        }
      ]
    }
  ]
}